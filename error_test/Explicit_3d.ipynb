{
  "nbformat": 4,
  "nbformat_minor": 0,
  "metadata": {
    "colab": {
      "provenance": []
    },
    "kernelspec": {
      "name": "python3",
      "display_name": "Python 3"
    },
    "language_info": {
      "name": "python"
    }
  },
  "cells": [
    {
      "cell_type": "code",
      "source": [
        "import numpy as np\n",
        "from tqdm import tqdm"
      ],
      "metadata": {
        "id": "hjpEWEctiS-x"
      },
      "execution_count": 2,
      "outputs": []
    },
    {
      "cell_type": "code",
      "source": [
        "# generate mask from image\n",
        "from PIL import Image\n",
        "\n",
        "def generate_mask(img, nz, nx):\n",
        "  im = Image.open(\"mask.png\").convert(\"L\")\n",
        "  if im.size != (nz, nx):\n",
        "    print(\"image size different. Resized\")\n",
        "    im = im.resize((nz, nx))\n",
        "\n",
        "  arr = np.array(im)\n",
        "\n",
        "  mask = np.where(arr < 128, 0, 1)\n",
        "  return mask"
      ],
      "metadata": {
        "id": "YwBDOAlCoFrb"
      },
      "execution_count": 21,
      "outputs": []
    },
    {
      "cell_type": "code",
      "execution_count": 32,
      "metadata": {
        "colab": {
          "base_uri": "https://localhost:8080/"
        },
        "id": "NvWRe3zHLbV4",
        "outputId": "83da192b-0ce3-4f1e-ddb9-b78ea7f6f135"
      },
      "outputs": [
        {
          "output_type": "stream",
          "name": "stdout",
          "text": [
            "image size different. Resized\n"
          ]
        },
        {
          "output_type": "stream",
          "name": "stderr",
          "text": [
            "100%|██████████| 1000/1000 [00:15<00:00, 64.96it/s]\n"
          ]
        }
      ],
      "source": [
        "# 3d explicit method\n",
        "nx = 16\n",
        "ny = 16\n",
        "nz = 16\n",
        "nt = 1000\n",
        "\n",
        "lx = 1\n",
        "ly = 1\n",
        "lz = 1\n",
        "t = 1\n",
        "\n",
        "dx = 1/(nx-1)\n",
        "dy = 1/(ny-1)\n",
        "dz = 1/(nz-1)\n",
        "dt = t/nt\n",
        "D = 0.01\n",
        "mask = generate_mask(\"mask.png\", nz, nx)\n",
        "\n",
        "x = np.linspace(0.0, lx, nx)\n",
        "y = np.linspace(0.0, ly, ny)\n",
        "z = np.linspace(0.0, lz, nz)\n",
        "\n",
        "c0 = 1\n",
        "# Initial condition\n",
        "C = np.zeros((nx, ny, nz))\n",
        "for z in range(1, nz-1):\n",
        "  for x in range(1, nx-1):\n",
        "    C[z, -1, x] = c0 * (1-mask[z][x])\n",
        "\n",
        "# Calculate\n",
        "for i in tqdm(range(nt)):\n",
        "  for j in range(1, nx-1):\n",
        "    for k in range(1, ny-1):\n",
        "      for l in range(1, nz-1):\n",
        "        # Calculate at C(j, k, l, t+1)\n",
        "        C[j, k, l] = C[j, k, l] + D*(\n",
        "            (dt/dx**2)*(C[j+1, k, l] - 2*C[j, k, l] + C[j-1, k, l]) +\n",
        "            (dt/dy**2)*(C[j, k+1, l] - 2*C[j, k, l] + C[j, k-1, l]) +\n",
        "            (dt/dz**2)*(C[j, k, l+1] - 2*C[j, k, l] + C[j, k, l-1])\n",
        "            )\n",
        "  # Set boundary condition\n",
        "  C[0, :, :] = C[1, :, :]\n",
        "  C[-1, :, :] = C[-2, :, :]\n",
        "  C[:, 0, :] = C[:, 1, :]\n",
        "  C[:, :, 0] = C[:, :, 1]\n",
        "  C[:, :, -1] = C[:, :, -2]\n",
        "\n",
        "  for z in range(1, nz-1):\n",
        "    for x in range(1, nx-1):\n",
        "      if (mask[z][x] == 0):\n",
        "        C[z, -1, x] = c0\n",
        "      else:\n",
        "        C[z, -1, x] = C[z, -2, x]"
      ]
    },
    {
      "cell_type": "code",
      "source": [
        "# Load CSV\n",
        "C_load = np.loadtxt(\"half.csv\", delimiter=\",\")\n",
        "C_Params = C_load[-10:]\n",
        "C_Values = C_load[:-10].reshape(int(C_Params[0]), int(C_Params[1]), int(C_Params[2]))"
      ],
      "metadata": {
        "id": "HVZBRBBWLxJk"
      },
      "execution_count": 33,
      "outputs": []
    },
    {
      "cell_type": "code",
      "source": [
        "mse_value = np.mean(np.square(C_Values - C))\n",
        "print(f\"Mean Squared Error (MSE) between C_ADI and C: {mse_value}\")"
      ],
      "metadata": {
        "colab": {
          "base_uri": "https://localhost:8080/"
        },
        "id": "55pA9UuYiUqm",
        "outputId": "e5ed14d3-b213-4cd2-b18c-061ed6bdb3a3"
      },
      "execution_count": 34,
      "outputs": [
        {
          "output_type": "stream",
          "name": "stdout",
          "text": [
            "Mean Squared Error (MSE) between C_ADI and C: 1.3783122787146774e-07\n"
          ]
        }
      ]
    },
    {
      "cell_type": "code",
      "source": [
        "import csv\n",
        "flattened = np.append(C.flatten(), [nx, ny, nz, D, t, dt, lx, ly, lz, c0])\n",
        "\n",
        "# Save as a single comma-separated row in a CSV\n",
        "with open('flattened_3d_data.csv', 'w', newline='') as f:\n",
        "    writer = csv.writer(f)\n",
        "    writer.writerow(flattened)\n",
        "\n",
        "print(\"3D data flattened and saved to 'flattened_3d_data.csv'\")"
      ],
      "metadata": {
        "colab": {
          "base_uri": "https://localhost:8080/"
        },
        "id": "ZJ0SiJoEs_j1",
        "outputId": "11bb1d11-d406-401f-f38c-929c3db51ca0"
      },
      "execution_count": 26,
      "outputs": [
        {
          "output_type": "stream",
          "name": "stdout",
          "text": [
            "3D data flattened and saved to 'flattened_3d_data.csv'\n"
          ]
        }
      ]
    }
  ]
}