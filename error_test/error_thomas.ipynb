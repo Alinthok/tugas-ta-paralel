{
  "nbformat": 4,
  "nbformat_minor": 0,
  "metadata": {
    "colab": {
      "provenance": []
    },
    "kernelspec": {
      "name": "python3",
      "display_name": "Python 3"
    },
    "language_info": {
      "name": "python"
    }
  },
  "cells": [
    {
      "cell_type": "code",
      "source": [
        "def thomas(l, d, u, b, x, n):\n",
        "  uu = u.copy()\n",
        "  dd = d.copy()\n",
        "  x[:] = b.copy()\n",
        "\n",
        "  # construct diagonals\n",
        "  for i in range(1, n):\n",
        "    uu[i-1] = uu[i-1]/dd[i-1]\n",
        "    x[i-1] = x[i-1]/dd[i-1]\n",
        "    dd[i] = dd[i]-l[i-1]*uu[i-1]\n",
        "    x[i] = x[i]-l[i-1]*x[i-1]\n",
        "\n",
        "  x[n-1] = x[n-1]/dd[n-1]\n",
        "\n",
        "  for i in range(n-2, -1, -1):\n",
        "    x[i] = x[i]-uu[i]*x[i+1]"
      ],
      "metadata": {
        "id": "eAiEcuK6Vuqs"
      },
      "execution_count": 1,
      "outputs": []
    },
    {
      "cell_type": "code",
      "source": [
        "import numpy as np\n",
        "n = 100\n",
        "\n",
        "a = np.ones(n - 1) + np.random.rand(n - 1) * 0.1\n",
        "b = np.ones(n) + np.random.rand(n) * 0.1\n",
        "c = np.ones(n - 1) + np.random.rand(n - 1) * 0.1\n",
        "y = np.ones(n) + np.random.rand(n) * 0.1\n",
        "\n",
        "A = np.diag(b)\n",
        "A += np.diag(c, k=1)\n",
        "A += np.diag(a, k=-1)\n",
        "\n",
        "x = np.linalg.solve(A, y)\n",
        "x_thomas = np.zeros(n)\n",
        "thomas(a, b, c, y, x_thomas, n)\n",
        "y_pred = A @ x\n",
        "y_pred_thomas = A @ x_thomas\n",
        "\n",
        "abs_value = np.mean(np.abs(y_pred - y))\n",
        "print(f\"Avg absolute error between b_pred and b: {abs_value}\")\n",
        "abs_value = np.mean(np.abs(y_pred_thomas - y))\n",
        "print(f\"Avg absolute error between b_pred_thomas and b: {abs_value}\")"
      ],
      "metadata": {
        "id": "b454dXVRSUGr",
        "colab": {
          "base_uri": "https://localhost:8080/"
        },
        "outputId": "052dda6b-7374-4868-886d-088aca88c601"
      },
      "execution_count": 3,
      "outputs": [
        {
          "output_type": "stream",
          "name": "stdout",
          "text": [
            "Avg absolute error between b_pred and b: 5.10702591327572e-17\n",
            "Avg absolute error between b_pred_thomas and b: 5.773159728050814e-16\n"
          ]
        }
      ]
    }
  ]
}